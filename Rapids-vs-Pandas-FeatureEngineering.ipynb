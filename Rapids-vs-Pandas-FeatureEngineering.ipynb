{
 "cells": [
  {
   "cell_type": "code",
   "execution_count": 1,
   "metadata": {},
   "outputs": [
    {
     "name": "stderr",
     "output_type": "stream",
     "text": [
      "/home/digitalstorm/miniconda3/envs/nvidia-dsd-v1.2/lib/python3.7/site-packages/IPython/core/interactiveshell.py:3058: DtypeWarning: Columns (47) have mixed types. Specify dtype option on import or set low_memory=False.\n",
      "  interactivity=interactivity, compiler=compiler, result=result)\n"
     ]
    }
   ],
   "source": [
    "import pandas as pd\n",
    "pd_data = pd.read_csv('./train.csv')"
   ]
  },
  {
   "cell_type": "code",
   "execution_count": 2,
   "metadata": {},
   "outputs": [],
   "source": [
    "pd_data = pd_data[['PlayerHeight', 'PlayerWeight', 'DefendersInTheBox', 'Distance', 'Quarter',\n",
    "                  'HomeScoreBeforePlay', 'VisitorScoreBeforePlay', 'NflId', 'GameId',\n",
    "                  'YardLine', 'Down', 'Temperature', 'Yards']]"
   ]
  },
  {
   "cell_type": "code",
   "execution_count": 3,
   "metadata": {},
   "outputs": [],
   "source": [
    "def height_to_numerical(height):\n",
    "    feet = height.split('-')[0]\n",
    "    inches = height.split('-')[1]\n",
    "    return int(feet)*12 + int(inches)"
   ]
  },
  {
   "cell_type": "code",
   "execution_count": 4,
   "metadata": {},
   "outputs": [],
   "source": [
    "pd_data['PlayerHeight'] = pd_data['PlayerHeight'].apply(height_to_numerical)"
   ]
  },
  {
   "cell_type": "code",
   "execution_count": 5,
   "metadata": {},
   "outputs": [
    {
     "name": "stdout",
     "output_type": "stream",
     "text": [
      "<class 'cudf.dataframe.dataframe.DataFrame'>\n"
     ]
    }
   ],
   "source": [
    "import cudf\n",
    "cudf_data = cudf.from_pandas(pd_data)\n",
    "print(type(cudf_data))"
   ]
  },
  {
   "cell_type": "code",
   "execution_count": 6,
   "metadata": {},
   "outputs": [
    {
     "name": "stdout",
     "output_type": "stream",
     "text": [
      "<class 'dask_cudf.core.DataFrame'>\n"
     ]
    }
   ],
   "source": [
    "cleaned_data = pd_data.to_csv('./cleaned_data.csv')\n",
    "import dask_cudf\n",
    "dask_data = dask_cudf.read_csv('./cleaned_data.csv')\n",
    "print(type(dask_data))"
   ]
  },
  {
   "cell_type": "markdown",
   "metadata": {},
   "source": [
    "<h1> Advantage RAPIDS (cudf) </h1>"
   ]
  },
  {
   "cell_type": "code",
   "execution_count": 7,
   "metadata": {},
   "outputs": [
    {
     "name": "stdout",
     "output_type": "stream",
     "text": [
      "1.27 ms ± 1.98 µs per loop (mean ± std. dev. of 7 runs, 1000 loops each)\n"
     ]
    }
   ],
   "source": [
    "%%timeit\n",
    "pd_data['PlayerHeight'].mean()"
   ]
  },
  {
   "cell_type": "code",
   "execution_count": 8,
   "metadata": {},
   "outputs": [
    {
     "name": "stdout",
     "output_type": "stream",
     "text": [
      "112 µs ± 273 ns per loop (mean ± std. dev. of 7 runs, 10000 loops each)\n"
     ]
    }
   ],
   "source": [
    "%%timeit\n",
    "cudf_data['PlayerHeight'].mean()"
   ]
  },
  {
   "cell_type": "code",
   "execution_count": 27,
   "metadata": {},
   "outputs": [
    {
     "name": "stdout",
     "output_type": "stream",
     "text": [
      "1.55 ms ± 11.6 µs per loop (mean ± std. dev. of 7 runs, 1000 loops each)\n"
     ]
    }
   ],
   "source": [
    "%%timeit\n",
    "dask_data['PlayerHeight'].mean()"
   ]
  },
  {
   "cell_type": "code",
   "execution_count": 9,
   "metadata": {},
   "outputs": [
    {
     "name": "stdout",
     "output_type": "stream",
     "text": [
      "1.58 ms ± 1.46 µs per loop (mean ± std. dev. of 7 runs, 1000 loops each)\n"
     ]
    }
   ],
   "source": [
    "%%timeit\n",
    "pd_data['DefendersInTheBox_vs_Distance'] = pd_data['DefendersInTheBox'] / pd_data['Distance']"
   ]
  },
  {
   "cell_type": "code",
   "execution_count": 10,
   "metadata": {},
   "outputs": [
    {
     "name": "stdout",
     "output_type": "stream",
     "text": [
      "1.29 ms ± 4.76 µs per loop (mean ± std. dev. of 7 runs, 1000 loops each)\n"
     ]
    }
   ],
   "source": [
    "%%timeit\n",
    "cudf_data['DefendersInTheBox_vs_Distance'] = cudf_data['DefendersInTheBox'] / cudf_data['Distance']"
   ]
  },
  {
   "cell_type": "code",
   "execution_count": 28,
   "metadata": {},
   "outputs": [
    {
     "name": "stdout",
     "output_type": "stream",
     "text": [
      "50 ms ± 481 µs per loop (mean ± std. dev. of 7 runs, 10 loops each)\n"
     ]
    }
   ],
   "source": [
    "%%timeit\n",
    "dask_data['DefendersInTheBox_vs_Distance'] = dask_data['DefendersInTheBox'] / dask_data['Distance']"
   ]
  },
  {
   "cell_type": "markdown",
   "metadata": {},
   "source": [
    "<h1> Advantage Pandas (pd) </h1>"
   ]
  },
  {
   "cell_type": "code",
   "execution_count": 11,
   "metadata": {},
   "outputs": [
    {
     "name": "stdout",
     "output_type": "stream",
     "text": [
      "2.83 ms ± 7.41 µs per loop (mean ± std. dev. of 7 runs, 100 loops each)\n"
     ]
    }
   ],
   "source": [
    "%%timeit\n",
    "pd_data['BMI'] = 703 * (pd_data['PlayerWeight']/pd_data['PlayerHeight']**2)"
   ]
  },
  {
   "cell_type": "code",
   "execution_count": 12,
   "metadata": {},
   "outputs": [
    {
     "name": "stdout",
     "output_type": "stream",
     "text": [
      "4.97 ms ± 228 µs per loop (mean ± std. dev. of 7 runs, 1 loop each)\n"
     ]
    }
   ],
   "source": [
    "%%timeit\n",
    "cudf_data['BMI'] = 703 * (cudf_data['PlayerWeight']/cudf_data['PlayerHeight']**2)"
   ]
  },
  {
   "cell_type": "code",
   "execution_count": 13,
   "metadata": {},
   "outputs": [
    {
     "name": "stdout",
     "output_type": "stream",
     "text": [
      "1.24 ms ± 1.81 µs per loop (mean ± std. dev. of 7 runs, 1000 loops each)\n"
     ]
    }
   ],
   "source": [
    "%%timeit\n",
    "pd_data['Margin'] = pd_data['HomeScoreBeforePlay'] - pd_data['VisitorScoreBeforePlay']"
   ]
  },
  {
   "cell_type": "code",
   "execution_count": 14,
   "metadata": {},
   "outputs": [
    {
     "name": "stdout",
     "output_type": "stream",
     "text": [
      "1.44 ms ± 6.17 µs per loop (mean ± std. dev. of 7 runs, 1000 loops each)\n"
     ]
    }
   ],
   "source": [
    "%%timeit\n",
    "cudf_data['Margin'] = cudf_data['HomeScoreBeforePlay'] - cudf_data['VisitorScoreBeforePlay']"
   ]
  },
  {
   "cell_type": "code",
   "execution_count": 15,
   "metadata": {},
   "outputs": [
    {
     "name": "stdout",
     "output_type": "stream",
     "text": [
      "1.27 ms ± 662 ns per loop (mean ± std. dev. of 7 runs, 1000 loops each)\n"
     ]
    }
   ],
   "source": [
    "%%timeit\n",
    "pd_data['Urgency'] = pd_data['Quarter'] * pd_data['Margin']"
   ]
  },
  {
   "cell_type": "code",
   "execution_count": 16,
   "metadata": {},
   "outputs": [
    {
     "name": "stdout",
     "output_type": "stream",
     "text": [
      "1.43 ms ± 2.29 µs per loop (mean ± std. dev. of 7 runs, 1000 loops each)\n"
     ]
    }
   ],
   "source": [
    "%%timeit\n",
    "cudf_data['Urgency'] = cudf_data['Quarter'] * cudf_data['Margin']"
   ]
  },
  {
   "cell_type": "code",
   "execution_count": 17,
   "metadata": {},
   "outputs": [
    {
     "name": "stdout",
     "output_type": "stream",
     "text": [
      "CPU times: user 64.6 ms, sys: 8.07 ms, total: 72.6 ms\n",
      "Wall time: 71.2 ms\n"
     ]
    }
   ],
   "source": [
    "%%time\n",
    "for col in pd_data:\n",
    "    pd_data[col] = pd_data[col] / pd_data[col].max()"
   ]
  },
  {
   "cell_type": "code",
   "execution_count": 18,
   "metadata": {},
   "outputs": [
    {
     "name": "stdout",
     "output_type": "stream",
     "text": [
      "CPU times: user 155 ms, sys: 23.9 ms, total: 179 ms\n",
      "Wall time: 179 ms\n"
     ]
    }
   ],
   "source": [
    "%%time\n",
    "for col in cudf_data:\n",
    "    cudf_data[col] = cudf_data[col] / cudf_data[col].max()"
   ]
  },
  {
   "cell_type": "code",
   "execution_count": 19,
   "metadata": {},
   "outputs": [
    {
     "name": "stdout",
     "output_type": "stream",
     "text": [
      "<class 'pandas.core.frame.DataFrame'>\n",
      "RangeIndex: 509762 entries, 0 to 509761\n",
      "Data columns (total 17 columns):\n",
      "PlayerHeight                     509762 non-null float64\n",
      "PlayerWeight                     509762 non-null float64\n",
      "DefendersInTheBox                509696 non-null float64\n",
      "Distance                         509762 non-null float64\n",
      "Quarter                          509762 non-null float64\n",
      "HomeScoreBeforePlay              509762 non-null float64\n",
      "VisitorScoreBeforePlay           509762 non-null float64\n",
      "NflId                            509762 non-null float64\n",
      "GameId                           509762 non-null float64\n",
      "YardLine                         509762 non-null float64\n",
      "Down                             509762 non-null float64\n",
      "Temperature                      461230 non-null float64\n",
      "Yards                            509762 non-null float64\n",
      "DefendersInTheBox_vs_Distance    509696 non-null float64\n",
      "BMI                              509762 non-null float64\n",
      "Margin                           509762 non-null float64\n",
      "Urgency                          509762 non-null float64\n",
      "dtypes: float64(17)\n",
      "memory usage: 66.1 MB\n"
     ]
    }
   ],
   "source": [
    "pd_data.info()"
   ]
  },
  {
   "cell_type": "code",
   "execution_count": 20,
   "metadata": {},
   "outputs": [
    {
     "name": "stdout",
     "output_type": "stream",
     "text": [
      " 0.020202    65692\n",
      " 0.010101    60544\n",
      " 0.030303    58652\n",
      " 0.040404    51502\n",
      " 0.000000    47190\n",
      " 0.050505    38742\n",
      " 0.060606    26862\n",
      "-0.010101    22792\n",
      " 0.070707    20020\n",
      "-0.020202    14674\n",
      " 0.080808    14652\n",
      " 0.090909    14476\n",
      " 0.111111     8558\n",
      "-0.030303     8338\n",
      " 0.101010     7194\n",
      "-0.040404     5566\n",
      " 0.121212     5236\n",
      " 0.141414     4576\n",
      " 0.131313     4246\n",
      " 0.151515     3300\n",
      " 0.161616     3036\n",
      "-0.050505     2486\n",
      " 0.171717     2398\n",
      " 0.181818     1980\n",
      " 0.212121     1782\n",
      " 0.202020     1628\n",
      " 0.191919     1386\n",
      "-0.060606     1166\n",
      " 0.252525      836\n",
      " 0.232323      836\n",
      "             ...  \n",
      " 0.616162       66\n",
      " 0.696970       66\n",
      " 0.474747       66\n",
      "-0.111111       44\n",
      " 0.393939       44\n",
      " 0.494949       44\n",
      " 0.666667       44\n",
      " 0.606061       44\n",
      " 0.707071       44\n",
      " 0.909091       44\n",
      " 0.484848       44\n",
      " 0.717172       44\n",
      " 0.444444       44\n",
      " 0.727273       44\n",
      " 0.595960       44\n",
      " 0.575758       44\n",
      " 0.656566       44\n",
      " 0.777778       22\n",
      " 1.000000       22\n",
      " 0.676768       22\n",
      " 0.787879       22\n",
      " 0.878788       22\n",
      " 0.646465       22\n",
      " 0.626263       22\n",
      " 0.747475       22\n",
      " 0.636364       22\n",
      "-0.141414       22\n",
      " 0.565657       22\n",
      " 0.979798       22\n",
      " 0.929293       22\n",
      "Name: Yards, Length: 94, dtype: int64\n"
     ]
    }
   ],
   "source": [
    "import numpy as np\n",
    "X = np.array(pd_data.drop(columns='Yards'))\n",
    "y = pd_data['Yards']\n",
    "print(y.value_counts())\n",
    "y = np.array(y)"
   ]
  },
  {
   "cell_type": "code",
   "execution_count": 21,
   "metadata": {},
   "outputs": [],
   "source": [
    "from sklearn.model_selection import train_test_split\n",
    "X_train, X_test, y_train, y_test = train_test_split(X, y, test_size=0.2)"
   ]
  },
  {
   "cell_type": "code",
   "execution_count": 22,
   "metadata": {},
   "outputs": [],
   "source": [
    "import tensorflow.keras as keras"
   ]
  },
  {
   "cell_type": "code",
   "execution_count": 23,
   "metadata": {},
   "outputs": [],
   "source": [
    "model = keras.models.Sequential()\n",
    "model.add(keras.layers.Dense(256, activation='relu'))\n",
    "model.add(keras.layers.Dense(512, activation='relu'))\n",
    "model.add(keras.layers.Dense(256, activation='relu'))\n",
    "model.add(keras.layers.Dense(1, activation='tanh'))"
   ]
  },
  {
   "cell_type": "code",
   "execution_count": 24,
   "metadata": {},
   "outputs": [],
   "source": [
    "from tensorflow.keras.optimizers import SGD\n",
    "model.compile(optimizer=SGD(lr=0.001),\n",
    "             loss='mse')"
   ]
  },
  {
   "cell_type": "code",
   "execution_count": 25,
   "metadata": {},
   "outputs": [
    {
     "name": "stdout",
     "output_type": "stream",
     "text": [
      "Train on 407809 samples\n",
      "Epoch 1/10\n",
      "WARNING:tensorflow:Entity <function Function._initialize_uninitialized_variables.<locals>.initialize_variables at 0x7f02e25f7730> could not be transformed and will be executed as-is. Please report this to the AutoGraph team. When filing the bug, set the verbosity to 10 (on Linux, `export AUTOGRAPH_VERBOSITY=10`) and attach the full output. Cause: module 'gast' has no attribute 'Num'\n"
     ]
    },
    {
     "name": "stderr",
     "output_type": "stream",
     "text": [
      "WARNING:Entity <function Function._initialize_uninitialized_variables.<locals>.initialize_variables at 0x7f02e25f7730> could not be transformed and will be executed as-is. Please report this to the AutoGraph team. When filing the bug, set the verbosity to 10 (on Linux, `export AUTOGRAPH_VERBOSITY=10`) and attach the full output. Cause: module 'gast' has no attribute 'Num'\n"
     ]
    },
    {
     "name": "stdout",
     "output_type": "stream",
     "text": [
      "WARNING: Entity <function Function._initialize_uninitialized_variables.<locals>.initialize_variables at 0x7f02e25f7730> could not be transformed and will be executed as-is. Please report this to the AutoGraph team. When filing the bug, set the verbosity to 10 (on Linux, `export AUTOGRAPH_VERBOSITY=10`) and attach the full output. Cause: module 'gast' has no attribute 'Num'\n",
      "407809/407809 [==============================] - 42s 103us/sample - loss: 0.0042\n",
      "Epoch 2/10\n",
      "407809/407809 [==============================] - 42s 104us/sample - loss: 0.0042\n",
      "Epoch 3/10\n",
      "407809/407809 [==============================] - 42s 104us/sample - loss: 0.0042\n",
      "Epoch 4/10\n",
      "407809/407809 [==============================] - 42s 104us/sample - loss: 0.0042\n",
      "Epoch 5/10\n",
      "407809/407809 [==============================] - 42s 104us/sample - loss: 0.0042\n",
      "Epoch 6/10\n",
      "407809/407809 [==============================] - 42s 104us/sample - loss: 0.0042\n",
      "Epoch 7/10\n",
      "407809/407809 [==============================] - 42s 104us/sample - loss: 0.0042\n",
      "Epoch 8/10\n",
      "407809/407809 [==============================] - 42s 104us/sample - loss: 0.0042\n",
      "Epoch 9/10\n",
      "407809/407809 [==============================] - 42s 104us/sample - loss: 0.0042\n",
      "Epoch 10/10\n",
      "407809/407809 [==============================] - 42s 104us/sample - loss: 0.0042\n"
     ]
    },
    {
     "data": {
      "text/plain": [
       "<tensorflow.python.keras.callbacks.History at 0x7f03847a3518>"
      ]
     },
     "execution_count": 25,
     "metadata": {},
     "output_type": "execute_result"
    }
   ],
   "source": [
    "model.fit(X_train, y_train, epochs=10)"
   ]
  },
  {
   "cell_type": "code",
   "execution_count": 26,
   "metadata": {},
   "outputs": [
    {
     "name": "stderr",
     "output_type": "stream",
     "text": [
      "IOPub data rate exceeded.\n",
      "The notebook server will temporarily stop sending output\n",
      "to the client in order to avoid crashing it.\n",
      "To change this limit, set the config variable\n",
      "`--NotebookApp.iopub_data_rate_limit`.\n",
      "\n",
      "Current values:\n",
      "NotebookApp.iopub_data_rate_limit=1000000.0 (bytes/sec)\n",
      "NotebookApp.rate_limit_window=3.0 (secs)\n",
      "\n"
     ]
    },
    {
     "data": {
      "text/plain": [
       "0.004258217414762187"
      ]
     },
     "execution_count": 26,
     "metadata": {},
     "output_type": "execute_result"
    }
   ],
   "source": [
    "import warnings\n",
    "warnings.filterwarnings('ignore')\n",
    "model.evaluate(X_test, y_test)"
   ]
  },
  {
   "cell_type": "code",
   "execution_count": null,
   "metadata": {},
   "outputs": [],
   "source": []
  }
 ],
 "metadata": {
  "kernelspec": {
   "display_name": "Python 3",
   "language": "python",
   "name": "python3"
  },
  "language_info": {
   "codemirror_mode": {
    "name": "ipython",
    "version": 3
   },
   "file_extension": ".py",
   "mimetype": "text/x-python",
   "name": "python",
   "nbconvert_exporter": "python",
   "pygments_lexer": "ipython3",
   "version": "3.7.3"
  }
 },
 "nbformat": 4,
 "nbformat_minor": 2
}
